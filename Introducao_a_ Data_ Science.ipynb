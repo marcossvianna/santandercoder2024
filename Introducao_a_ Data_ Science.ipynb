{
 "cells": [
  {
   "cell_type": "markdown",
   "id": "8ac129c2-caf1-4322-9963-4edd260bedb0",
   "metadata": {},
   "source": [
    "### INSTALAÇÃO DE BIBLIOTECAS"
   ]
  },
  {
   "cell_type": "code",
   "execution_count": null,
   "id": "7fa8f8a9-740e-48d7-8246-a5a6d22be257",
   "metadata": {},
   "outputs": [],
   "source": [
    "!pip install numpy\n",
    "!pip install pandas\n",
    "!pip install scikit-learn\n",
    "!pip install matplotlib"
   ]
  },
  {
   "cell_type": "markdown",
   "id": "e16a1d2c-4ad8-459a-aac9-91a239ee3d29",
   "metadata": {},
   "source": [
    "### INTRODUÇÃO AO NUMPY"
   ]
  },
  {
   "cell_type": "code",
   "execution_count": 2,
   "id": "06ddceb6-1cd2-4e54-b0a0-7614c93671ab",
   "metadata": {},
   "outputs": [],
   "source": [
    "import numpy as np"
   ]
  },
  {
   "cell_type": "code",
   "execution_count": 5,
   "id": "907e35a9-54dc-4531-825e-e2d046d33448",
   "metadata": {},
   "outputs": [],
   "source": [
    "lista = [1, 2, 3, 4, 5, 6]\n",
    "array = np.array(lista)"
   ]
  },
  {
   "cell_type": "code",
   "execution_count": 6,
   "id": "ce6f85e5-f9b0-40c3-894f-0eeaaa1e1cd0",
   "metadata": {},
   "outputs": [
    {
     "name": "stdout",
     "output_type": "stream",
     "text": [
      "[1, 2, 3, 4, 5, 6]\n",
      "[1 2 3 4 5 6]\n",
      "<class 'list'>\n",
      "<class 'numpy.ndarray'>\n"
     ]
    }
   ],
   "source": [
    "print(lista)\n",
    "print(array)\n",
    "print(type(lista))\n",
    "print(type(array))"
   ]
  },
  {
   "cell_type": "code",
   "execution_count": 11,
   "id": "4bdfa6a3-571e-4bce-be8a-07f996e9ea08",
   "metadata": {},
   "outputs": [
    {
     "name": "stdout",
     "output_type": "stream",
     "text": [
      "[0. 0. 0. 0. 0. 0. 0. 0. 0. 0.]\n"
     ]
    }
   ],
   "source": [
    "## Arrays de zeros\n",
    "arr_zeros = np.zeros(10)\n",
    "print(arr_zeros)"
   ]
  },
  {
   "cell_type": "code",
   "execution_count": 8,
   "id": "77c31c01-956e-4efd-a98e-79717a49d6ab",
   "metadata": {},
   "outputs": [
    {
     "name": "stdout",
     "output_type": "stream",
     "text": [
      "1\n"
     ]
    }
   ],
   "source": [
    "print(array[0])"
   ]
  },
  {
   "cell_type": "code",
   "execution_count": 12,
   "id": "b477c91c-2874-4aad-9a0b-1ebb4cdfb09e",
   "metadata": {},
   "outputs": [
    {
     "name": "stdout",
     "output_type": "stream",
     "text": [
      "[9 2 3 4 5 6]\n"
     ]
    }
   ],
   "source": [
    "## Alterar valor de um array\n",
    "array[0] = 9\n",
    "print(array)"
   ]
  },
  {
   "cell_type": "code",
   "execution_count": 14,
   "id": "0712b0cb-8163-48d4-a6f2-27a8b325bb5b",
   "metadata": {},
   "outputs": [
    {
     "name": "stdout",
     "output_type": "stream",
     "text": [
      "[[0. 0. 0.]\n",
      " [0. 0. 0.]\n",
      " [0. 0. 0.]\n",
      " [0. 0. 0.]\n",
      " [0. 0. 0.]]\n"
     ]
    }
   ],
   "source": [
    "## Matrizes\n",
    "matriz_zeros = np.zeros((5, 3))\n",
    "print(matriz_zeros)\n"
   ]
  },
  {
   "cell_type": "code",
   "execution_count": 6,
   "id": "71a38a0c-5669-43cd-84c7-b86117be51e6",
   "metadata": {},
   "outputs": [
    {
     "name": "stdout",
     "output_type": "stream",
     "text": [
      "Maximo 9.8\n",
      "Minimo 5.6\n",
      "Media 7.8\n",
      "Desvio Padrao 1.5987495113369077\n",
      "Posicao Menor 1\n",
      "Posicao Maior 0\n"
     ]
    }
   ],
   "source": [
    "## Operações matemáticas\n",
    "\n",
    "# Notas de alunos\n",
    "\n",
    "lista_de_notas = [9.8, 5.6, 7.8, 9.3, 6.5]\n",
    "\n",
    "notas = np.array(lista_de_notas)\n",
    "\n",
    "print('Maximo', notas.max())\n",
    "print('Minimo', notas.min())\n",
    "print('Media', notas.mean())\n",
    "print('Desvio Padrao', notas.std())\n",
    "print('Posicao Menor', notas.argmin())\n",
    "print('Posicao Maior', notas.argmax())\n",
    "\n"
   ]
  },
  {
   "cell_type": "markdown",
   "id": "b2b272fe-742d-4bd8-9f49-550086554a1c",
   "metadata": {},
   "source": [
    "### EXERCICIOS DE FIXAÇÃO I"
   ]
  },
  {
   "cell_type": "code",
   "execution_count": 11,
   "id": "28943807-fbbe-4177-ba6c-45a3f96fb0c9",
   "metadata": {},
   "outputs": [
    {
     "name": "stdout",
     "output_type": "stream",
     "text": [
      "2.8722813232690143\n"
     ]
    }
   ],
   "source": [
    "## EX 1 - Você deseja criar um numpy array com 10 espaços, e depois preenchê-los com 10 valores para poder calcular o desvio padrão usando o método do numpy.\n",
    "# Para fazer isso sem usar uma lista, você pode:\n",
    "# A) Criar um array de zeros usando o comando np.zeros(10), e utilizar um for para preenchê-lo --> (CORRETA)\n",
    "# B) Criar um array vazio usando o np.array() e depois fazer append dos dados\n",
    "# C) Criar um array de \"uns\" usando o comando np.ones(10) e depois preencher o array igualando-o ele a uma lista\n",
    "# D) Criar um array de zeros usando o comando np.zeros(9), pois a contagem começa no zero, e usar um for para preenchê-lo\n",
    "\n",
    "arr = np.zeros(10)\n",
    "\n",
    "# Preencher o array com 10 valores\n",
    "for i in range(10):\n",
    "    arr[i] = i + 1  # Exemplo: preenchendo com valores de 1 a 10\n",
    "\n",
    "# Calcular o desvio padrão\n",
    "std_dev = np.std(arr)\n",
    "print(std_dev)\n",
    "\n"
   ]
  },
  {
   "cell_type": "code",
   "execution_count": 27,
   "id": "dba63f97-8b38-4571-8794-679d28dcbcbf",
   "metadata": {},
   "outputs": [
    {
     "name": "stdout",
     "output_type": "stream",
     "text": [
      "Média da turma: 7.25\n",
      "Notas acima da média do colégio: [7.5 8.  9.  8.5]\n",
      "Notas abaixo da média do colégio: [6.5 5.5 6. ]\n"
     ]
    }
   ],
   "source": [
    "## EX 2 - Juliana está corrigindo provas de seus alunos e para isso salva as notas em uma lista.\n",
    "# Além de calcular a média da turma, Juliana também precisa determinar de forma rápida quem está acima e abaixo da média do colégio, e, para fazer isso de forma rápida, decidiu criar um array para auxiliá-la.\n",
    "# A partir da lista de notas, como Juliana pode criar esse array?\n",
    "# A) Utilizando o comando np.array(lista) --> (CORRETA)\n",
    "# B) Utilizando a função np.to_array(lista)\n",
    "# C) Utilizando a função Array(lista)\n",
    "# D) Utilizando a função np.list_to_array(lista)\n",
    "\n",
    "# Suponha que `notas` seja a lista de notas dos alunos\n",
    "notas = [7.5, 8.0, 6.5, 9.0, 5.5, 8.5, 7.0, 6.0]\n",
    "\n",
    "# Convertendo a lista em um array numpy\n",
    "notas_array = np.array(notas)\n",
    "\n",
    "# Calculando a média das notas\n",
    "media_turma = np.mean(notas_array)\n",
    "print(\"Média da turma:\", media_turma)\n",
    "\n",
    "# Determinando quem está acima e abaixo da média do colégio (por exemplo, média do colégio é 7.0)\n",
    "media_colegio = 7.0\n",
    "acima_da_media = notas_array[notas_array > media_colegio]\n",
    "abaixo_da_media = notas_array[notas_array < media_colegio]\n",
    "\n",
    "print(\"Notas acima da média do colégio:\", acima_da_media)\n",
    "print(\"Notas abaixo da média do colégio:\", abaixo_da_media)\n",
    "\n"
   ]
  },
  {
   "cell_type": "markdown",
   "id": "70a590a8-1b68-46c0-b116-a431053eb262",
   "metadata": {},
   "source": [
    "### MASCARAS BOOLEANAS"
   ]
  },
  {
   "cell_type": "code",
   "execution_count": 12,
   "id": "d0dfac34-ce1c-44ab-b128-863d63788cf5",
   "metadata": {},
   "outputs": [],
   "source": [
    "is_covid_positive = np.array(['Yes', 'No', 'No', 'Yes', 'Yes', 'No'])"
   ]
  },
  {
   "cell_type": "code",
   "execution_count": 13,
   "id": "60745c9b-28cb-45f1-a0a3-92e3754e5e16",
   "metadata": {},
   "outputs": [],
   "source": [
    "mask = (is_covid_positive == 'Yes')"
   ]
  },
  {
   "cell_type": "code",
   "execution_count": 14,
   "id": "7d2e12e0-31ac-45a5-8148-5a4db0288089",
   "metadata": {},
   "outputs": [
    {
     "name": "stdout",
     "output_type": "stream",
     "text": [
      "['Yes' 'Yes' 'Yes']\n"
     ]
    }
   ],
   "source": [
    "print(is_covid_positive[mask])"
   ]
  },
  {
   "cell_type": "code",
   "execution_count": 15,
   "id": "3b917092-fa6c-4c0b-b5a4-71f5fc0a18de",
   "metadata": {},
   "outputs": [],
   "source": [
    "is_covid_positive[mask] = 'C19'"
   ]
  },
  {
   "cell_type": "code",
   "execution_count": 16,
   "id": "dd2586d0-ecfa-406c-a329-5aaa341e4dc1",
   "metadata": {},
   "outputs": [
    {
     "name": "stdout",
     "output_type": "stream",
     "text": [
      "['C19' 'No' 'No' 'C19' 'C19' 'No']\n"
     ]
    }
   ],
   "source": [
    "print(is_covid_positive)"
   ]
  },
  {
   "cell_type": "code",
   "execution_count": 17,
   "id": "84b61e06-6fa3-4de5-9f24-5661bf51a861",
   "metadata": {},
   "outputs": [],
   "source": [
    "notas = np.array([4.9, 6.5, 3.2, 6.7])"
   ]
  },
  {
   "cell_type": "code",
   "execution_count": 18,
   "id": "a4e605a9-ca84-418f-8398-2af29bd4b270",
   "metadata": {},
   "outputs": [],
   "source": [
    "mask_notas = notas >= 5"
   ]
  },
  {
   "cell_type": "code",
   "execution_count": 19,
   "id": "7d3a52d8-0421-4f48-80bd-c5a839ffdf39",
   "metadata": {},
   "outputs": [
    {
     "name": "stdout",
     "output_type": "stream",
     "text": [
      "[False  True False  True]\n"
     ]
    }
   ],
   "source": [
    "print(mask_notas)"
   ]
  },
  {
   "cell_type": "markdown",
   "id": "bb1b0982-14f0-46f6-9bb5-b00d2acbd19d",
   "metadata": {},
   "source": [
    "### EXERCICIOS DE FIXAÇÃO II"
   ]
  },
  {
   "cell_type": "code",
   "execution_count": null,
   "id": "d10b48bc-d3f3-4630-82aa-24e70add17cb",
   "metadata": {},
   "outputs": [],
   "source": [
    "## EX 3 - Um estagiário está começando a trabalhar com Numpy. No meio dos tutoriais encontra menções a algo chamado máscara booleana.\n",
    "# O conceito não ficou muito claro para ele, e ele pede a sua ajuda para explicar o que é esse recurso no numpy.\n",
    "# Assinale a alternativa que explica o que é uma máscara booleana:\n",
    "\n",
    "#a) É uma maneira de indexar objetos no numpy, que funciona de maneira similar a um dicionário\n",
    "#b) É uma maneira de indexar objetos no numpy, que funciona de maneira similar a um filtro, que pode ser simples ou composto --> (CORRETA)\n",
    "#c) É uma maneira de indexar objetos no numpy, que funciona de maneira similar a um filtro, a filtragem deve ser simples\n",
    "#d) É uma ferramenta do numpy para disfarçar variáveis False e fingir que são True, apenas por um periodo no código\n"
   ]
  },
  {
   "cell_type": "code",
   "execution_count": 3,
   "id": "dd2c03cb-4d1f-420c-98b1-8eade43211b3",
   "metadata": {},
   "outputs": [
    {
     "name": "stdout",
     "output_type": "stream",
     "text": [
      "Notas: [6.5 7.  8.5 5.  9.  7.5]\n",
      "Aprovados: [False  True  True False  True  True]\n"
     ]
    }
   ],
   "source": [
    "## EX 4 - Em uma escola, a média para aprovação é 7. As notas dos alunos estão armazenadas em um array chamado 'notas'.\n",
    "#Escolha a expressão que pega 'notas' e salva em 'aprovados' um outro array booleano, com valor true apenas para as pessoas que passaram de ano:\n",
    "\n",
    "#a) aprovados = notas >= 7 --> (CORRETA)\n",
    "#b) aprovados = notas > 7\n",
    "#c) aprovados <- notas >= 7\n",
    "#d) aprovados = notas[notas >= 7]\n",
    "\n",
    "# Array de notas dos alunos\n",
    "notas = np.array([6.5, 7.0, 8.5, 5.0, 9.0, 7.5])\n",
    "\n",
    "# Criando um array booleano indicando quem passou (nota >= 7)\n",
    "aprovados = notas >= 7\n",
    "\n",
    "print(\"Notas:\", notas)\n",
    "print(\"Aprovados:\", aprovados)"
   ]
  },
  {
   "cell_type": "markdown",
   "id": "fcc68bdc-d1ff-4865-a291-d87f0473f95f",
   "metadata": {},
   "source": [
    "### PANDAS SERIES"
   ]
  },
  {
   "cell_type": "code",
   "execution_count": 126,
   "id": "9ec1de7a-cfb4-4f8f-baa4-6d253810bb1a",
   "metadata": {},
   "outputs": [],
   "source": [
    "import pandas as pd"
   ]
  },
  {
   "cell_type": "code",
   "execution_count": 128,
   "id": "173b1bbb-7123-4c7f-b49f-92a98b61bb4c",
   "metadata": {},
   "outputs": [],
   "source": [
    "lista = [12, 23, 34, 45, 56, 67]\n",
    "\n",
    "serie_pandas = pd.Series(lista)"
   ]
  },
  {
   "cell_type": "code",
   "execution_count": 130,
   "id": "319b2b22-4f09-43a4-8ea6-a051667885f7",
   "metadata": {},
   "outputs": [
    {
     "name": "stdout",
     "output_type": "stream",
     "text": [
      "0    12\n",
      "1    23\n",
      "2    34\n",
      "3    45\n",
      "4    56\n",
      "5    67\n",
      "dtype: int64\n"
     ]
    }
   ],
   "source": [
    "print(serie_pandas)"
   ]
  },
  {
   "cell_type": "code",
   "execution_count": 132,
   "id": "5cd5c516-2547-4254-9eeb-0c07ed63a251",
   "metadata": {},
   "outputs": [
    {
     "name": "stdout",
     "output_type": "stream",
     "text": [
      "12\n"
     ]
    }
   ],
   "source": [
    "print(serie_pandas[0])"
   ]
  },
  {
   "cell_type": "code",
   "execution_count": 134,
   "id": "2d8d9b53-bcf0-4d5c-be5c-79f09b4adcef",
   "metadata": {},
   "outputs": [],
   "source": [
    "notas = {'Thiago' : 8, 'Guilherme' : 9.5, 'Juca' : 6.2}"
   ]
  },
  {
   "cell_type": "code",
   "execution_count": 136,
   "id": "747f31b1-6139-456f-b97e-9aaf49a801fe",
   "metadata": {},
   "outputs": [],
   "source": [
    "serie_notas = pd.Series(notas)"
   ]
  },
  {
   "cell_type": "code",
   "execution_count": 138,
   "id": "c242a7bd-7f4b-4ef7-be1c-035d4f88c7f1",
   "metadata": {},
   "outputs": [
    {
     "name": "stdout",
     "output_type": "stream",
     "text": [
      "Thiago       8.0\n",
      "Guilherme    9.5\n",
      "Juca         6.2\n",
      "dtype: float64\n"
     ]
    }
   ],
   "source": [
    "print(serie_notas)"
   ]
  },
  {
   "cell_type": "code",
   "execution_count": 140,
   "id": "75b8cb21-3b4e-4dbf-a68f-6acca6339ff8",
   "metadata": {},
   "outputs": [
    {
     "name": "stdout",
     "output_type": "stream",
     "text": [
      "8.0\n"
     ]
    }
   ],
   "source": [
    "print(serie_notas['Thiago'])"
   ]
  },
  {
   "cell_type": "code",
   "execution_count": 142,
   "id": "b5cb1bd7-9533-4acc-b499-2696f5981aa3",
   "metadata": {},
   "outputs": [
    {
     "name": "stdout",
     "output_type": "stream",
     "text": [
      "count    3.000000\n",
      "mean     7.900000\n",
      "std      1.652271\n",
      "min      6.200000\n",
      "25%      7.100000\n",
      "50%      8.000000\n",
      "75%      8.750000\n",
      "max      9.500000\n",
      "dtype: float64\n"
     ]
    }
   ],
   "source": [
    "print(serie_notas.describe())"
   ]
  },
  {
   "cell_type": "markdown",
   "id": "60de0282-7855-43b0-a4ca-015833b982f0",
   "metadata": {},
   "source": [
    "### EXERCICIO DE FIXAÇÃO III"
   ]
  },
  {
   "cell_type": "code",
   "execution_count": null,
   "id": "1a710435-3c1b-4e87-9f34-3fc6a5953ef3",
   "metadata": {},
   "outputs": [],
   "source": [
    "#EX 5 - Você deseja fazer cálculos sobre o campeonato brasileiro.\n",
    "#A ideia é fazer alguns cálculos numéricos sobre gols feitos no campeonato brasileiro, como saber o total de gols.\n",
    "#Para fazer essa soma com uma série do pandas, você deve:\n",
    "\n",
    "#a) Usar o comando sum do numpy\n",
    "#b) Usar o comando sum, que é um método das séries --> (CORRETA)\n",
    "#c) Usar o comando sum, que é uma função do pandas\n",
    "#d) Implementar um método que faça a soma de uma lista e utilizá-lo com a série\n",
    "\n",
    "\n",
    "#EX 6 - Um professor está corrigindo a prova de seus alunos e precisa armazenar os valores e nomes em uma série.\n",
    "#Escolha abaixo uma das vantagens de criar essa série a partir de um dicionário com os nomes dos alunos e suas respectivas notas:\n",
    "\n",
    "#a) Otimização no processamento\n",
    "#b) Fácil interpretabilidade --> (CORRETA)\n",
    "#c) Possibilidade de filtrar elementos que ficaram acima de uma certa nota\n",
    "#d) Possibilidade de encontrar um valor específico"
   ]
  },
  {
   "cell_type": "markdown",
   "id": "5f19ff3d-c890-49de-a04b-4593b97fda53",
   "metadata": {},
   "source": [
    "### PANDAS DATAFRAMES"
   ]
  },
  {
   "cell_type": "code",
   "execution_count": 55,
   "id": "e8b9ca1d-4d4a-484a-ac96-b8a236599832",
   "metadata": {},
   "outputs": [],
   "source": [
    "import pandas as pd"
   ]
  },
  {
   "cell_type": "code",
   "execution_count": 93,
   "id": "b372124d-21d5-4150-9c6e-6f0ac81e6b37",
   "metadata": {},
   "outputs": [],
   "source": [
    "# Cria um dicionario com autores, preços e titulos\n",
    "\n",
    "dictionary = {'Autores': ['Rick Riordan', 'J. R. R. Tolkien', 'Rick Riordan', 'Machado de Assis'],\n",
    "              'Titulos': ['O ladrão de Raios', 'A Sociedade do Anel', 'Mar de Monstros', 'Memórias Postumas'],\n",
    "              'Preços': [41.2, 35.7, 39.5, 40.5]}"
   ]
  },
  {
   "cell_type": "code",
   "execution_count": 95,
   "id": "cea4aba0-b08d-4257-b980-8fe86ecb2c7d",
   "metadata": {},
   "outputs": [],
   "source": [
    "## DataFrame\n",
    "\n",
    "df = pd.DataFrame(dictionary)"
   ]
  },
  {
   "cell_type": "code",
   "execution_count": 97,
   "id": "6524d6dd-ef5d-405f-81e6-43a989723f76",
   "metadata": {},
   "outputs": [
    {
     "data": {
      "text/html": [
       "<div>\n",
       "<style scoped>\n",
       "    .dataframe tbody tr th:only-of-type {\n",
       "        vertical-align: middle;\n",
       "    }\n",
       "\n",
       "    .dataframe tbody tr th {\n",
       "        vertical-align: top;\n",
       "    }\n",
       "\n",
       "    .dataframe thead th {\n",
       "        text-align: right;\n",
       "    }\n",
       "</style>\n",
       "<table border=\"1\" class=\"dataframe\">\n",
       "  <thead>\n",
       "    <tr style=\"text-align: right;\">\n",
       "      <th></th>\n",
       "      <th>Autores</th>\n",
       "      <th>Titulos</th>\n",
       "      <th>Preços</th>\n",
       "    </tr>\n",
       "  </thead>\n",
       "  <tbody>\n",
       "    <tr>\n",
       "      <th>0</th>\n",
       "      <td>Rick Riordan</td>\n",
       "      <td>O ladrão de Raios</td>\n",
       "      <td>41.2</td>\n",
       "    </tr>\n",
       "    <tr>\n",
       "      <th>1</th>\n",
       "      <td>J. R. R. Tolkien</td>\n",
       "      <td>A Sociedade do Anel</td>\n",
       "      <td>35.7</td>\n",
       "    </tr>\n",
       "    <tr>\n",
       "      <th>2</th>\n",
       "      <td>Rick Riordan</td>\n",
       "      <td>Mar de Monstros</td>\n",
       "      <td>39.5</td>\n",
       "    </tr>\n",
       "    <tr>\n",
       "      <th>3</th>\n",
       "      <td>Machado de Assis</td>\n",
       "      <td>Memórias Postumas</td>\n",
       "      <td>40.5</td>\n",
       "    </tr>\n",
       "  </tbody>\n",
       "</table>\n",
       "</div>"
      ],
      "text/plain": [
       "            Autores              Titulos  Preços\n",
       "0      Rick Riordan    O ladrão de Raios    41.2\n",
       "1  J. R. R. Tolkien  A Sociedade do Anel    35.7\n",
       "2      Rick Riordan      Mar de Monstros    39.5\n",
       "3  Machado de Assis    Memórias Postumas    40.5"
      ]
     },
     "execution_count": 97,
     "metadata": {},
     "output_type": "execute_result"
    }
   ],
   "source": [
    "df"
   ]
  },
  {
   "cell_type": "code",
   "execution_count": 99,
   "id": "e190ede4-1dc7-4206-bfc9-fe1da2250551",
   "metadata": {},
   "outputs": [
    {
     "data": {
      "text/plain": [
       "'J. R. R. Tolkien'"
      ]
     },
     "execution_count": 99,
     "metadata": {},
     "output_type": "execute_result"
    }
   ],
   "source": [
    "df['Autores'][1]"
   ]
  },
  {
   "cell_type": "code",
   "execution_count": 101,
   "id": "b90931af-3152-46b1-bf77-e74f7332d95e",
   "metadata": {},
   "outputs": [
    {
     "data": {
      "text/plain": [
       "39.225"
      ]
     },
     "execution_count": 101,
     "metadata": {},
     "output_type": "execute_result"
    }
   ],
   "source": [
    "df['Preços'].mean()"
   ]
  },
  {
   "cell_type": "code",
   "execution_count": 103,
   "id": "d69fe404-c6ed-42e1-ae4f-e9e412bd8683",
   "metadata": {},
   "outputs": [],
   "source": [
    "mascara = (df['Autores'] == 'Rick Riordan')"
   ]
  },
  {
   "cell_type": "code",
   "execution_count": 105,
   "id": "a1b75301-787e-44a3-8fef-0bd31442b7e8",
   "metadata": {},
   "outputs": [
    {
     "data": {
      "text/html": [
       "<div>\n",
       "<style scoped>\n",
       "    .dataframe tbody tr th:only-of-type {\n",
       "        vertical-align: middle;\n",
       "    }\n",
       "\n",
       "    .dataframe tbody tr th {\n",
       "        vertical-align: top;\n",
       "    }\n",
       "\n",
       "    .dataframe thead th {\n",
       "        text-align: right;\n",
       "    }\n",
       "</style>\n",
       "<table border=\"1\" class=\"dataframe\">\n",
       "  <thead>\n",
       "    <tr style=\"text-align: right;\">\n",
       "      <th></th>\n",
       "      <th>Autores</th>\n",
       "      <th>Titulos</th>\n",
       "      <th>Preços</th>\n",
       "    </tr>\n",
       "  </thead>\n",
       "  <tbody>\n",
       "    <tr>\n",
       "      <th>0</th>\n",
       "      <td>Rick Riordan</td>\n",
       "      <td>O ladrão de Raios</td>\n",
       "      <td>41.2</td>\n",
       "    </tr>\n",
       "    <tr>\n",
       "      <th>2</th>\n",
       "      <td>Rick Riordan</td>\n",
       "      <td>Mar de Monstros</td>\n",
       "      <td>39.5</td>\n",
       "    </tr>\n",
       "  </tbody>\n",
       "</table>\n",
       "</div>"
      ],
      "text/plain": [
       "        Autores            Titulos  Preços\n",
       "0  Rick Riordan  O ladrão de Raios    41.2\n",
       "2  Rick Riordan    Mar de Monstros    39.5"
      ]
     },
     "execution_count": 105,
     "metadata": {},
     "output_type": "execute_result"
    }
   ],
   "source": [
    "df[mascara]"
   ]
  },
  {
   "cell_type": "code",
   "execution_count": 107,
   "id": "a6710b7b-0c14-429c-a0bb-0316903c590f",
   "metadata": {},
   "outputs": [],
   "source": [
    "# New row to be added\n",
    "new_row = pd.DataFrame({'Autores' : ['Rick Riordan'], 'Titulos' : ['A Maldiçã do Titã'], 'Preços' : [40.20]})\n",
    "\n",
    "# Concatenate the new row to the DataFrame\n",
    "df = pd.concat([df, new_row], ignore_index=True)"
   ]
  },
  {
   "cell_type": "code",
   "execution_count": 109,
   "id": "f87ed468-58e6-4cbb-95f9-d1130bde7617",
   "metadata": {},
   "outputs": [
    {
     "data": {
      "text/html": [
       "<div>\n",
       "<style scoped>\n",
       "    .dataframe tbody tr th:only-of-type {\n",
       "        vertical-align: middle;\n",
       "    }\n",
       "\n",
       "    .dataframe tbody tr th {\n",
       "        vertical-align: top;\n",
       "    }\n",
       "\n",
       "    .dataframe thead th {\n",
       "        text-align: right;\n",
       "    }\n",
       "</style>\n",
       "<table border=\"1\" class=\"dataframe\">\n",
       "  <thead>\n",
       "    <tr style=\"text-align: right;\">\n",
       "      <th></th>\n",
       "      <th>Autores</th>\n",
       "      <th>Titulos</th>\n",
       "      <th>Preços</th>\n",
       "    </tr>\n",
       "  </thead>\n",
       "  <tbody>\n",
       "    <tr>\n",
       "      <th>0</th>\n",
       "      <td>Rick Riordan</td>\n",
       "      <td>O ladrão de Raios</td>\n",
       "      <td>41.2</td>\n",
       "    </tr>\n",
       "    <tr>\n",
       "      <th>1</th>\n",
       "      <td>J. R. R. Tolkien</td>\n",
       "      <td>A Sociedade do Anel</td>\n",
       "      <td>35.7</td>\n",
       "    </tr>\n",
       "    <tr>\n",
       "      <th>2</th>\n",
       "      <td>Rick Riordan</td>\n",
       "      <td>Mar de Monstros</td>\n",
       "      <td>39.5</td>\n",
       "    </tr>\n",
       "    <tr>\n",
       "      <th>3</th>\n",
       "      <td>Machado de Assis</td>\n",
       "      <td>Memórias Postumas</td>\n",
       "      <td>40.5</td>\n",
       "    </tr>\n",
       "    <tr>\n",
       "      <th>4</th>\n",
       "      <td>Rick Riordan</td>\n",
       "      <td>A Maldiçã do Titã</td>\n",
       "      <td>40.2</td>\n",
       "    </tr>\n",
       "  </tbody>\n",
       "</table>\n",
       "</div>"
      ],
      "text/plain": [
       "            Autores              Titulos  Preços\n",
       "0      Rick Riordan    O ladrão de Raios    41.2\n",
       "1  J. R. R. Tolkien  A Sociedade do Anel    35.7\n",
       "2      Rick Riordan      Mar de Monstros    39.5\n",
       "3  Machado de Assis    Memórias Postumas    40.5\n",
       "4      Rick Riordan    A Maldiçã do Titã    40.2"
      ]
     },
     "execution_count": 109,
     "metadata": {},
     "output_type": "execute_result"
    }
   ],
   "source": [
    "df"
   ]
  },
  {
   "cell_type": "code",
   "execution_count": 111,
   "id": "24466a08-3d66-484d-8197-11ebb488e0a2",
   "metadata": {},
   "outputs": [],
   "source": [
    "mascara_correcao = df['Titulos'] == 'A Maldiçã do Titã'"
   ]
  },
  {
   "cell_type": "code",
   "execution_count": 113,
   "id": "a12a0ec7-4981-4895-aa98-ef253ff20bb5",
   "metadata": {},
   "outputs": [],
   "source": [
    "df.loc[mascara_correcao, 'Titulos'] = 'A Maldição do Titã'"
   ]
  },
  {
   "cell_type": "code",
   "execution_count": 115,
   "id": "b831bb97-3402-497a-8fa1-0814509d1556",
   "metadata": {},
   "outputs": [
    {
     "data": {
      "text/html": [
       "<div>\n",
       "<style scoped>\n",
       "    .dataframe tbody tr th:only-of-type {\n",
       "        vertical-align: middle;\n",
       "    }\n",
       "\n",
       "    .dataframe tbody tr th {\n",
       "        vertical-align: top;\n",
       "    }\n",
       "\n",
       "    .dataframe thead th {\n",
       "        text-align: right;\n",
       "    }\n",
       "</style>\n",
       "<table border=\"1\" class=\"dataframe\">\n",
       "  <thead>\n",
       "    <tr style=\"text-align: right;\">\n",
       "      <th></th>\n",
       "      <th>Autores</th>\n",
       "      <th>Titulos</th>\n",
       "      <th>Preços</th>\n",
       "    </tr>\n",
       "  </thead>\n",
       "  <tbody>\n",
       "    <tr>\n",
       "      <th>0</th>\n",
       "      <td>Rick Riordan</td>\n",
       "      <td>O ladrão de Raios</td>\n",
       "      <td>41.2</td>\n",
       "    </tr>\n",
       "    <tr>\n",
       "      <th>1</th>\n",
       "      <td>J. R. R. Tolkien</td>\n",
       "      <td>A Sociedade do Anel</td>\n",
       "      <td>35.7</td>\n",
       "    </tr>\n",
       "    <tr>\n",
       "      <th>2</th>\n",
       "      <td>Rick Riordan</td>\n",
       "      <td>Mar de Monstros</td>\n",
       "      <td>39.5</td>\n",
       "    </tr>\n",
       "    <tr>\n",
       "      <th>3</th>\n",
       "      <td>Machado de Assis</td>\n",
       "      <td>Memórias Postumas</td>\n",
       "      <td>40.5</td>\n",
       "    </tr>\n",
       "    <tr>\n",
       "      <th>4</th>\n",
       "      <td>Rick Riordan</td>\n",
       "      <td>A Maldição do Titã</td>\n",
       "      <td>40.2</td>\n",
       "    </tr>\n",
       "  </tbody>\n",
       "</table>\n",
       "</div>"
      ],
      "text/plain": [
       "            Autores              Titulos  Preços\n",
       "0      Rick Riordan    O ladrão de Raios    41.2\n",
       "1  J. R. R. Tolkien  A Sociedade do Anel    35.7\n",
       "2      Rick Riordan      Mar de Monstros    39.5\n",
       "3  Machado de Assis    Memórias Postumas    40.5\n",
       "4      Rick Riordan   A Maldição do Titã    40.2"
      ]
     },
     "execution_count": 115,
     "metadata": {},
     "output_type": "execute_result"
    }
   ],
   "source": [
    "df"
   ]
  },
  {
   "cell_type": "markdown",
   "id": "8660fb60-2dea-4483-a972-339a47a851b7",
   "metadata": {},
   "source": [
    "### EXERCICIO DE FIXAÇÃO IV"
   ]
  },
  {
   "cell_type": "code",
   "execution_count": null,
   "id": "49ec3aa3-0d2e-44dd-a66f-a3598f16b415",
   "metadata": {},
   "outputs": [],
   "source": [
    "#EX 7 - A lista da Billboard Hot 100 traz as 100 músicas mais populares da semana, com nome da música, artista, posição na última semana, posição na semana atual e semanas consecutivas na lista.\n",
    "#Você extraiu esses dados para o dataframe 'billboard_100', que contem as colunas 'artista' e 'musica', e diversos outros dados que você deseja análisar. Como pode fazer para visualizar os nomes das músicas da Taylor Swift contidas na Billboard Hot 100 da semana? (apenas os nomes)\n",
    "\n",
    "#a) billboard_100['artista'] == 'Taylor Swift'\n",
    "#b) billboard_100[billboard_100['artista'] == 'Taylor Swift']\n",
    "#c) billboard_100[billboard_100['artista'] == 'Taylor Swift']['musica'] --> (CORRETA)\n",
    "#d) billboard_100[billboard_100['artista'].like('Taylor Swift')]['musica']\n",
    "\n",
    "#EX 8 - Roberto trabalha com controle de estoque de uma loja de roupas e precisa fazer registros diários no dataframe de produtos, constando código, nome do produto, quantidade em estoque, tamanho e preço.\n",
    "#Um dia, chegaram 5 unidades de 'camiseta azul de algodão', tamanho M, vendida por R$60,00 e com código 11.\n",
    "#Porém, esse produto ainda não constava no inventário de estoque. Como Roberto pode adicioná-lo ao dataframe de dados?\n",
    "\n",
    "#a) Com o comando produtos.append(11, camiseta azul de algodão, 5, M, 60.00)\n",
    "#b) Com o comando produtos.append(camiseta azul de algodão)\n",
    "#c) Com o comando produtos.add(11, 'camiseta azul de algodão', 5, 'M', 60.00) --> (CORRETA)\n",
    "#d) Com o comando produtos.append(11, 'camiseta azul de algodão', 5, 'M', 60.00)"
   ]
  },
  {
   "cell_type": "markdown",
   "id": "2870bea4-2f41-4614-a49d-e615eebf6f50",
   "metadata": {},
   "source": [
    "### ANALISANDO DADOS"
   ]
  },
  {
   "cell_type": "code",
   "execution_count": 146,
   "id": "f56d135a-0390-4eb1-bc5c-8cdaa1a50c7b",
   "metadata": {},
   "outputs": [],
   "source": [
    "import pandas as pd"
   ]
  },
  {
   "cell_type": "code",
   "execution_count": 152,
   "id": "177c9bcd-ef7a-49a4-8642-1ab7b9712a21",
   "metadata": {},
   "outputs": [],
   "source": [
    "taxis = pd.read_csv('taxis.csv')"
   ]
  },
  {
   "cell_type": "code",
   "execution_count": 154,
   "id": "e9ef5b2a-6f7d-4fa8-afc9-32702bb92a96",
   "metadata": {},
   "outputs": [
    {
     "data": {
      "text/html": [
       "<div>\n",
       "<style scoped>\n",
       "    .dataframe tbody tr th:only-of-type {\n",
       "        vertical-align: middle;\n",
       "    }\n",
       "\n",
       "    .dataframe tbody tr th {\n",
       "        vertical-align: top;\n",
       "    }\n",
       "\n",
       "    .dataframe thead th {\n",
       "        text-align: right;\n",
       "    }\n",
       "</style>\n",
       "<table border=\"1\" class=\"dataframe\">\n",
       "  <thead>\n",
       "    <tr style=\"text-align: right;\">\n",
       "      <th></th>\n",
       "      <th>pickup</th>\n",
       "      <th>dropoff</th>\n",
       "      <th>passengers</th>\n",
       "      <th>distance</th>\n",
       "      <th>fare</th>\n",
       "      <th>tip</th>\n",
       "      <th>tolls</th>\n",
       "      <th>total</th>\n",
       "      <th>color</th>\n",
       "      <th>payment</th>\n",
       "      <th>pickup_zone</th>\n",
       "      <th>dropoff_zone</th>\n",
       "      <th>pickup_borough</th>\n",
       "      <th>dropoff_borough</th>\n",
       "    </tr>\n",
       "  </thead>\n",
       "  <tbody>\n",
       "    <tr>\n",
       "      <th>0</th>\n",
       "      <td>2019-03-23 20:21:09</td>\n",
       "      <td>2019-03-23 20:27:24</td>\n",
       "      <td>1</td>\n",
       "      <td>1.60</td>\n",
       "      <td>7.0</td>\n",
       "      <td>2.15</td>\n",
       "      <td>0.0</td>\n",
       "      <td>12.95</td>\n",
       "      <td>yellow</td>\n",
       "      <td>credit card</td>\n",
       "      <td>Lenox Hill West</td>\n",
       "      <td>UN/Turtle Bay South</td>\n",
       "      <td>Manhattan</td>\n",
       "      <td>Manhattan</td>\n",
       "    </tr>\n",
       "    <tr>\n",
       "      <th>1</th>\n",
       "      <td>2019-03-04 16:11:55</td>\n",
       "      <td>2019-03-04 16:19:00</td>\n",
       "      <td>1</td>\n",
       "      <td>0.79</td>\n",
       "      <td>5.0</td>\n",
       "      <td>0.00</td>\n",
       "      <td>0.0</td>\n",
       "      <td>9.30</td>\n",
       "      <td>yellow</td>\n",
       "      <td>cash</td>\n",
       "      <td>Upper West Side South</td>\n",
       "      <td>Upper West Side South</td>\n",
       "      <td>Manhattan</td>\n",
       "      <td>Manhattan</td>\n",
       "    </tr>\n",
       "    <tr>\n",
       "      <th>2</th>\n",
       "      <td>2019-03-27 17:53:01</td>\n",
       "      <td>2019-03-27 18:00:25</td>\n",
       "      <td>1</td>\n",
       "      <td>1.37</td>\n",
       "      <td>7.5</td>\n",
       "      <td>2.36</td>\n",
       "      <td>0.0</td>\n",
       "      <td>14.16</td>\n",
       "      <td>yellow</td>\n",
       "      <td>credit card</td>\n",
       "      <td>Alphabet City</td>\n",
       "      <td>West Village</td>\n",
       "      <td>Manhattan</td>\n",
       "      <td>Manhattan</td>\n",
       "    </tr>\n",
       "    <tr>\n",
       "      <th>3</th>\n",
       "      <td>2019-03-10 01:23:59</td>\n",
       "      <td>2019-03-10 01:49:51</td>\n",
       "      <td>1</td>\n",
       "      <td>7.70</td>\n",
       "      <td>27.0</td>\n",
       "      <td>6.15</td>\n",
       "      <td>0.0</td>\n",
       "      <td>36.95</td>\n",
       "      <td>yellow</td>\n",
       "      <td>credit card</td>\n",
       "      <td>Hudson Sq</td>\n",
       "      <td>Yorkville West</td>\n",
       "      <td>Manhattan</td>\n",
       "      <td>Manhattan</td>\n",
       "    </tr>\n",
       "    <tr>\n",
       "      <th>4</th>\n",
       "      <td>2019-03-30 13:27:42</td>\n",
       "      <td>2019-03-30 13:37:14</td>\n",
       "      <td>3</td>\n",
       "      <td>2.16</td>\n",
       "      <td>9.0</td>\n",
       "      <td>1.10</td>\n",
       "      <td>0.0</td>\n",
       "      <td>13.40</td>\n",
       "      <td>yellow</td>\n",
       "      <td>credit card</td>\n",
       "      <td>Midtown East</td>\n",
       "      <td>Yorkville West</td>\n",
       "      <td>Manhattan</td>\n",
       "      <td>Manhattan</td>\n",
       "    </tr>\n",
       "  </tbody>\n",
       "</table>\n",
       "</div>"
      ],
      "text/plain": [
       "                pickup              dropoff  passengers  distance  fare   tip  \\\n",
       "0  2019-03-23 20:21:09  2019-03-23 20:27:24           1      1.60   7.0  2.15   \n",
       "1  2019-03-04 16:11:55  2019-03-04 16:19:00           1      0.79   5.0  0.00   \n",
       "2  2019-03-27 17:53:01  2019-03-27 18:00:25           1      1.37   7.5  2.36   \n",
       "3  2019-03-10 01:23:59  2019-03-10 01:49:51           1      7.70  27.0  6.15   \n",
       "4  2019-03-30 13:27:42  2019-03-30 13:37:14           3      2.16   9.0  1.10   \n",
       "\n",
       "   tolls  total   color      payment            pickup_zone  \\\n",
       "0    0.0  12.95  yellow  credit card        Lenox Hill West   \n",
       "1    0.0   9.30  yellow         cash  Upper West Side South   \n",
       "2    0.0  14.16  yellow  credit card          Alphabet City   \n",
       "3    0.0  36.95  yellow  credit card              Hudson Sq   \n",
       "4    0.0  13.40  yellow  credit card           Midtown East   \n",
       "\n",
       "            dropoff_zone pickup_borough dropoff_borough  \n",
       "0    UN/Turtle Bay South      Manhattan       Manhattan  \n",
       "1  Upper West Side South      Manhattan       Manhattan  \n",
       "2           West Village      Manhattan       Manhattan  \n",
       "3         Yorkville West      Manhattan       Manhattan  \n",
       "4         Yorkville West      Manhattan       Manhattan  "
      ]
     },
     "execution_count": 154,
     "metadata": {},
     "output_type": "execute_result"
    }
   ],
   "source": [
    "taxis.head()"
   ]
  },
  {
   "cell_type": "code",
   "execution_count": 160,
   "id": "9da05f4d-2029-49d0-a812-c116c33de9c4",
   "metadata": {},
   "outputs": [
    {
     "data": {
      "text/plain": [
       "dropoff_borough\n",
       "Manhattan        5206\n",
       "Queens            542\n",
       "Brooklyn          501\n",
       "Bronx             137\n",
       "Staten Island       2\n",
       "Name: count, dtype: int64"
      ]
     },
     "execution_count": 160,
     "metadata": {},
     "output_type": "execute_result"
    }
   ],
   "source": [
    "taxis['dropoff_borough'].value_counts()"
   ]
  },
  {
   "cell_type": "code",
   "execution_count": 164,
   "id": "1471b703-8099-4c03-9b07-c79ad2a559c8",
   "metadata": {},
   "outputs": [
    {
     "data": {
      "text/html": [
       "<div>\n",
       "<style scoped>\n",
       "    .dataframe tbody tr th:only-of-type {\n",
       "        vertical-align: middle;\n",
       "    }\n",
       "\n",
       "    .dataframe tbody tr th {\n",
       "        vertical-align: top;\n",
       "    }\n",
       "\n",
       "    .dataframe thead th {\n",
       "        text-align: right;\n",
       "    }\n",
       "</style>\n",
       "<table border=\"1\" class=\"dataframe\">\n",
       "  <thead>\n",
       "    <tr style=\"text-align: right;\">\n",
       "      <th></th>\n",
       "      <th>mean</th>\n",
       "      <th>median</th>\n",
       "    </tr>\n",
       "    <tr>\n",
       "      <th>dropoff_borough</th>\n",
       "      <th></th>\n",
       "      <th></th>\n",
       "    </tr>\n",
       "  </thead>\n",
       "  <tbody>\n",
       "    <tr>\n",
       "      <th>Bronx</th>\n",
       "      <td>0.530803</td>\n",
       "      <td>0.000</td>\n",
       "    </tr>\n",
       "    <tr>\n",
       "      <th>Brooklyn</th>\n",
       "      <td>1.906248</td>\n",
       "      <td>0.000</td>\n",
       "    </tr>\n",
       "    <tr>\n",
       "      <th>Manhattan</th>\n",
       "      <td>1.954606</td>\n",
       "      <td>1.860</td>\n",
       "    </tr>\n",
       "    <tr>\n",
       "      <th>Queens</th>\n",
       "      <td>2.386273</td>\n",
       "      <td>0.000</td>\n",
       "    </tr>\n",
       "    <tr>\n",
       "      <th>Staten Island</th>\n",
       "      <td>14.165000</td>\n",
       "      <td>14.165</td>\n",
       "    </tr>\n",
       "  </tbody>\n",
       "</table>\n",
       "</div>"
      ],
      "text/plain": [
       "                      mean  median\n",
       "dropoff_borough                   \n",
       "Bronx             0.530803   0.000\n",
       "Brooklyn          1.906248   0.000\n",
       "Manhattan         1.954606   1.860\n",
       "Queens            2.386273   0.000\n",
       "Staten Island    14.165000  14.165"
      ]
     },
     "execution_count": 164,
     "metadata": {},
     "output_type": "execute_result"
    }
   ],
   "source": [
    "## Vizinhanças em que as casas costumam ser mais caras, oferecem melhores gorgetas\n",
    "\n",
    "taxis.groupby(['dropoff_borough'])['tip'].agg(['mean', 'median'])"
   ]
  },
  {
   "cell_type": "code",
   "execution_count": null,
   "id": "91433499-ea2d-4356-a34f-4bbaff4ccb9c",
   "metadata": {},
   "outputs": [],
   "source": [
    "#EX 9 - Cristina realizou ensaios mecânicos de um material e a máquina exportou os dados em um arquivo .csv.\n",
    "#Como Cristina pode importar esses dados para acessá-los no pandas, da maneira mais prática possível, entre as opções abaixo?\n",
    "\n",
    "#a) Utilizando o método pd.read_csv('nome_do_arquivo.csv') --> (CORRETA)\n",
    "#b) Utilizando o metodo pd.read_file('nome_do_arquivo.csv)\n",
    "#c) Utilizando o método read_data('nome_do_arquivo.csv')\n",
    "#d) Utilizando o método nativo do python open, e fazendo em seguida o parseamento do arquivo\n",
    "\n",
    "#EX 10 - Lúcia monitorou as temperaturas máximas de cada dia, durante todas as estações do ano de 2020 e armazenou os valores no DataFrame 'temperaturas'.\n",
    "#Para um relatório, ela precisa saber a temperatura máxima média de cada estação. Como Lúcia pode calcular?\n",
    "\n",
    "#a) temperaturas['temperatura'].agg('estacao').max()\n",
    "#b) temperaturas.groupby('estacao')['temperatura'].max() --> (CORRETA)\n",
    "#c) temperaturas.groupby(estacao)['temperatura'].max()\n",
    "#d) temperaturas.agg('estacao')['temperatura'].max()"
   ]
  },
  {
   "cell_type": "markdown",
   "id": "1759f369-0333-4132-90ab-b1b1a59deb73",
   "metadata": {},
   "source": [
    "### TRATANDO DADOS"
   ]
  },
  {
   "cell_type": "code",
   "execution_count": 167,
   "id": "f5a55001-96ac-4869-8b6f-1d8c90cea526",
   "metadata": {},
   "outputs": [],
   "source": [
    "import pandas as pd"
   ]
  },
  {
   "cell_type": "code",
   "execution_count": 169,
   "id": "1a2734c6-9b29-46fa-a587-c14ee744eab7",
   "metadata": {},
   "outputs": [
    {
     "name": "stdout",
     "output_type": "stream",
     "text": [
      "Requirement already satisfied: openpyxl in /home/marcos/anaconda3/lib/python3.11/site-packages (3.0.10)\n",
      "Requirement already satisfied: et_xmlfile in /home/marcos/anaconda3/lib/python3.11/site-packages (from openpyxl) (1.1.0)\n"
     ]
    }
   ],
   "source": [
    "!pip install openpyxl"
   ]
  },
  {
   "cell_type": "code",
   "execution_count": null,
   "id": "ceb90653-e811-47b7-afc9-5d34fbb301ee",
   "metadata": {},
   "outputs": [],
   "source": []
  },
  {
   "cell_type": "code",
   "execution_count": null,
   "id": "ec384b59-36ad-4380-ae73-97ffe4c5adbb",
   "metadata": {},
   "outputs": [],
   "source": []
  },
  {
   "cell_type": "code",
   "execution_count": null,
   "id": "6ca9e7f7-982a-47f1-8041-2b4d9f68c6db",
   "metadata": {},
   "outputs": [],
   "source": [
    "auxiliar = df.loc[10031]"
   ]
  },
  {
   "cell_type": "code",
   "execution_count": null,
   "id": "28763fba-ca13-4dca-a4a2-a0a6c697c368",
   "metadata": {},
   "outputs": [],
   "source": [
    "auxiliar"
   ]
  },
  {
   "cell_type": "code",
   "execution_count": null,
   "id": "d809b4fb-b36e-416b-b575-d965e5f90063",
   "metadata": {},
   "outputs": [],
   "source": [
    "def limpa_preco(linha):\n",
    "    linha['price'] = linha['price'].replace('R$', '')\n",
    "    linha['price'] = linha['price'].replace('\\n', '')\n",
    "    linha['price'] = linha['price'].replace('/Mês', '')\n",
    "    linha['price'] = linha['price'].replace('              ', '')\n",
    "    return linha"
   ]
  },
  {
   "cell_type": "code",
   "execution_count": null,
   "id": "06405375-7127-4c46-8c4d-51b1739ded42",
   "metadata": {},
   "outputs": [],
   "source": [
    "df.apply(lambda x: limpa_preco(x), axis=1)"
   ]
  },
  {
   "cell_type": "code",
   "execution_count": null,
   "id": "104d9470-8b7e-43e0-a925-36e71551de1f",
   "metadata": {},
   "outputs": [],
   "source": [
    "def ajusta_alugueis(linha):\n",
    "    linha['price'] = linha['price'].replace('.', '')\n",
    "    preco = int(linha['price'])\n",
    "    if(preco < 10000):\n",
    "        preco = preco * 200\n",
    "    linha['price'] = preco\n",
    "    return linha"
   ]
  },
  {
   "cell_type": "code",
   "execution_count": null,
   "id": "c5c783fd-7ba8-4faa-9632-679d0f98754d",
   "metadata": {},
   "outputs": [],
   "source": [
    "ajusta_alugueis(auxiliar)"
   ]
  },
  {
   "cell_type": "code",
   "execution_count": null,
   "id": "16464703-0674-4a14-b2f0-8b833bf8290d",
   "metadata": {},
   "outputs": [],
   "source": [
    "df.apply(lambda x: ajusta_alugueis(x), axis=1)"
   ]
  }
 ],
 "metadata": {
  "kernelspec": {
   "display_name": "Python 3 (ipykernel)",
   "language": "python",
   "name": "python3"
  },
  "language_info": {
   "codemirror_mode": {
    "name": "ipython",
    "version": 3
   },
   "file_extension": ".py",
   "mimetype": "text/x-python",
   "name": "python",
   "nbconvert_exporter": "python",
   "pygments_lexer": "ipython3",
   "version": "3.11.7"
  }
 },
 "nbformat": 4,
 "nbformat_minor": 5
}
