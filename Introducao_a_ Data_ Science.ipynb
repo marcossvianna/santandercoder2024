{
 "cells": [
  {
   "cell_type": "markdown",
   "id": "8ac129c2-caf1-4322-9963-4edd260bedb0",
   "metadata": {},
   "source": [
    "### INSTALAÇÃO DE BIBLIOTECAS"
   ]
  },
  {
   "cell_type": "code",
   "execution_count": null,
   "id": "7fa8f8a9-740e-48d7-8246-a5a6d22be257",
   "metadata": {},
   "outputs": [],
   "source": [
    "!pip install numpy\n",
    "!pip install pandas\n",
    "!pip install scikit-learn\n",
    "!pip install matplotlib"
   ]
  },
  {
   "cell_type": "markdown",
   "id": "e16a1d2c-4ad8-459a-aac9-91a239ee3d29",
   "metadata": {},
   "source": [
    "### INTRODUÇÃO AO NUMPY"
   ]
  },
  {
   "cell_type": "code",
   "execution_count": 3,
   "id": "06ddceb6-1cd2-4e54-b0a0-7614c93671ab",
   "metadata": {},
   "outputs": [],
   "source": [
    "import numpy as np"
   ]
  },
  {
   "cell_type": "code",
   "execution_count": 5,
   "id": "907e35a9-54dc-4531-825e-e2d046d33448",
   "metadata": {},
   "outputs": [],
   "source": [
    "lista = [1, 2, 3, 4, 5, 6]\n",
    "array = np.array(lista)"
   ]
  },
  {
   "cell_type": "code",
   "execution_count": 6,
   "id": "ce6f85e5-f9b0-40c3-894f-0eeaaa1e1cd0",
   "metadata": {},
   "outputs": [
    {
     "name": "stdout",
     "output_type": "stream",
     "text": [
      "[1, 2, 3, 4, 5, 6]\n",
      "[1 2 3 4 5 6]\n",
      "<class 'list'>\n",
      "<class 'numpy.ndarray'>\n"
     ]
    }
   ],
   "source": [
    "print(lista)\n",
    "print(array)\n",
    "print(type(lista))\n",
    "print(type(array))"
   ]
  },
  {
   "cell_type": "code",
   "execution_count": 11,
   "id": "4bdfa6a3-571e-4bce-be8a-07f996e9ea08",
   "metadata": {},
   "outputs": [
    {
     "name": "stdout",
     "output_type": "stream",
     "text": [
      "[0. 0. 0. 0. 0. 0. 0. 0. 0. 0.]\n"
     ]
    }
   ],
   "source": [
    "## Arrays de zeros\n",
    "arr_zeros = np.zeros(10)\n",
    "print(arr_zeros)"
   ]
  },
  {
   "cell_type": "code",
   "execution_count": 8,
   "id": "77c31c01-956e-4efd-a98e-79717a49d6ab",
   "metadata": {},
   "outputs": [
    {
     "name": "stdout",
     "output_type": "stream",
     "text": [
      "1\n"
     ]
    }
   ],
   "source": [
    "print(array[0])"
   ]
  },
  {
   "cell_type": "code",
   "execution_count": 12,
   "id": "b477c91c-2874-4aad-9a0b-1ebb4cdfb09e",
   "metadata": {},
   "outputs": [
    {
     "name": "stdout",
     "output_type": "stream",
     "text": [
      "[9 2 3 4 5 6]\n"
     ]
    }
   ],
   "source": [
    "## Alterar valor de um array\n",
    "array[0] = 9\n",
    "print(array)"
   ]
  },
  {
   "cell_type": "code",
   "execution_count": 14,
   "id": "0712b0cb-8163-48d4-a6f2-27a8b325bb5b",
   "metadata": {},
   "outputs": [
    {
     "name": "stdout",
     "output_type": "stream",
     "text": [
      "[[0. 0. 0.]\n",
      " [0. 0. 0.]\n",
      " [0. 0. 0.]\n",
      " [0. 0. 0.]\n",
      " [0. 0. 0.]]\n"
     ]
    }
   ],
   "source": [
    "## Matrizes\n",
    "matriz_zeros = np.zeros((5, 3))\n",
    "print(matriz_zeros)\n"
   ]
  },
  {
   "cell_type": "code",
   "execution_count": 20,
   "id": "71a38a0c-5669-43cd-84c7-b86117be51e6",
   "metadata": {},
   "outputs": [
    {
     "name": "stdout",
     "output_type": "stream",
     "text": [
      "Maximo 9.8\n",
      "Minimo 5.6\n",
      "Media 7.8\n",
      "Desvio Padrao 1.5987495113369077\n",
      "Posicao Menor 1\n",
      "Posicao Maior 0\n"
     ]
    }
   ],
   "source": [
    "## Operações matemáticas\n",
    "\n",
    "# Notas de alunos\n",
    "\n",
    "lista_de_notas = [9.8, 5.6, 7.8, 9.3, 6.5]\n",
    "\n",
    "notas = np.array(lista_de_notas)\n",
    "\n",
    "print('Maximo', notas.max())\n",
    "print('Minimo', notas.min())\n",
    "print('Media', notas.mean())\n",
    "print('Desvio Padrao', notas.std())\n",
    "print('Posicao Menor', notas.argmin())\n",
    "print('Posicao Maior', notas.argmax())\n",
    "\n",
    "\n"
   ]
  },
  {
   "cell_type": "markdown",
   "id": "b2b272fe-742d-4bd8-9f49-550086554a1c",
   "metadata": {},
   "source": [
    "### EXERCICIOS"
   ]
  },
  {
   "cell_type": "code",
   "execution_count": 26,
   "id": "28943807-fbbe-4177-ba6c-45a3f96fb0c9",
   "metadata": {},
   "outputs": [
    {
     "name": "stdout",
     "output_type": "stream",
     "text": [
      "2.8722813232690143\n"
     ]
    }
   ],
   "source": [
    "## EX 1 - Você deseja criar um numpy array com 10 espaços, e depois preenchê-los com 10 valores para poder calcular o desvio padrão usando o método do numpy.\n",
    "# Para fazer isso sem usar uma lista, você pode:\n",
    "# A) Criar um array de zeros usando o comando np.zeros(10), e utilizar um for para preenchê-lo --> (CORRETA)\n",
    "# B) Criar um array vazio usando o np.array() e depois fazer append dos dados\n",
    "# C) Criar um array de \"uns\" usando o comando np.ones(10) e depois preencher o array igualando-o ele a uma lista\n",
    "# D) Criar um array de zeros usando o comando np.zeros(9), pois a contagem começa no zero, e usar um for para preenchê-lo\n",
    "\n",
    "arr = np.zeros(10)\n",
    "\n",
    "# Preencher o array com 10 valores\n",
    "for i in range(10):\n",
    "    arr[i] = i + 1  # Exemplo: preenchendo com valores de 1 a 10\n",
    "\n",
    "# Calcular o desvio padrão\n",
    "std_dev = np.std(arr)\n",
    "print(std_dev)\n",
    "\n",
    "\n"
   ]
  },
  {
   "cell_type": "code",
   "execution_count": 27,
   "id": "dba63f97-8b38-4571-8794-679d28dcbcbf",
   "metadata": {},
   "outputs": [
    {
     "name": "stdout",
     "output_type": "stream",
     "text": [
      "Média da turma: 7.25\n",
      "Notas acima da média do colégio: [7.5 8.  9.  8.5]\n",
      "Notas abaixo da média do colégio: [6.5 5.5 6. ]\n"
     ]
    }
   ],
   "source": [
    "## EX 2 - Juliana está corrigindo provas de seus alunos e para isso salva as notas em uma lista.\n",
    "# Além de calcular a média da turma, Juliana também precisa determinar de forma rápida quem está acima e abaixo da média do colégio, e, para fazer isso de forma rápida, decidiu criar um array para auxiliá-la.\n",
    "# A partir da lista de notas, como Juliana pode criar esse array?\n",
    "# A) Utilizando o comando np.array(lista) --> (CORRETA)\n",
    "# B) Utilizando a função np.to_array(lista)\n",
    "# C) Utilizando a função Array(lista)\n",
    "# D) Utilizando a função np.list_to_array(lista)\n",
    "\n",
    "# Suponha que `notas` seja a lista de notas dos alunos\n",
    "notas = [7.5, 8.0, 6.5, 9.0, 5.5, 8.5, 7.0, 6.0]\n",
    "\n",
    "# Convertendo a lista em um array numpy\n",
    "notas_array = np.array(notas)\n",
    "\n",
    "# Calculando a média das notas\n",
    "media_turma = np.mean(notas_array)\n",
    "print(\"Média da turma:\", media_turma)\n",
    "\n",
    "# Determinando quem está acima e abaixo da média do colégio (por exemplo, média do colégio é 7.0)\n",
    "media_colegio = 7.0\n",
    "acima_da_media = notas_array[notas_array > media_colegio]\n",
    "abaixo_da_media = notas_array[notas_array < media_colegio]\n",
    "\n",
    "print(\"Notas acima da média do colégio:\", acima_da_media)\n",
    "print(\"Notas abaixo da média do colégio:\", abaixo_da_media)\n",
    "\n"
   ]
  },
  {
   "cell_type": "markdown",
   "id": "70a590a8-1b68-46c0-b116-a431053eb262",
   "metadata": {},
   "source": [
    "### MASCARAS BOOLEANAS"
   ]
  },
  {
   "cell_type": "code",
   "execution_count": 33,
   "id": "d0dfac34-ce1c-44ab-b128-863d63788cf5",
   "metadata": {},
   "outputs": [],
   "source": [
    "is_covid_positive = np.array(['Yes', 'No', 'No', 'Yes', 'Yes', 'No'])"
   ]
  },
  {
   "cell_type": "code",
   "execution_count": 35,
   "id": "60745c9b-28cb-45f1-a0a3-92e3754e5e16",
   "metadata": {},
   "outputs": [],
   "source": [
    "mask = (is_covid_positive == 'Yes')"
   ]
  },
  {
   "cell_type": "code",
   "execution_count": 36,
   "id": "7d2e12e0-31ac-45a5-8148-5a4db0288089",
   "metadata": {},
   "outputs": [
    {
     "name": "stdout",
     "output_type": "stream",
     "text": [
      "['Yes' 'Yes' 'Yes']\n"
     ]
    }
   ],
   "source": [
    "print(is_covid_positive[mask])"
   ]
  },
  {
   "cell_type": "code",
   "execution_count": 37,
   "id": "3b917092-fa6c-4c0b-b5a4-71f5fc0a18de",
   "metadata": {},
   "outputs": [],
   "source": [
    "is_covid_positive[mask] = 'C19'"
   ]
  },
  {
   "cell_type": "code",
   "execution_count": 38,
   "id": "dd2586d0-ecfa-406c-a329-5aaa341e4dc1",
   "metadata": {},
   "outputs": [
    {
     "name": "stdout",
     "output_type": "stream",
     "text": [
      "['C19' 'No' 'No' 'C19' 'C19' 'No']\n"
     ]
    }
   ],
   "source": [
    "print(is_covid_positive)"
   ]
  },
  {
   "cell_type": "code",
   "execution_count": 39,
   "id": "84b61e06-6fa3-4de5-9f24-5661bf51a861",
   "metadata": {},
   "outputs": [],
   "source": [
    "notas = np.array([4.9, 6.5, 3.2, 6.7])"
   ]
  },
  {
   "cell_type": "code",
   "execution_count": 40,
   "id": "a4e605a9-ca84-418f-8398-2af29bd4b270",
   "metadata": {},
   "outputs": [],
   "source": [
    "mask_notas = notas >= 5"
   ]
  },
  {
   "cell_type": "code",
   "execution_count": 41,
   "id": "7d3a52d8-0421-4f48-80bd-c5a839ffdf39",
   "metadata": {},
   "outputs": [
    {
     "name": "stdout",
     "output_type": "stream",
     "text": [
      "[False  True False  True]\n"
     ]
    }
   ],
   "source": [
    "print(mask_notas)"
   ]
  },
  {
   "cell_type": "markdown",
   "id": "bb1b0982-14f0-46f6-9bb5-b00d2acbd19d",
   "metadata": {},
   "source": [
    "### EXERCICIOS"
   ]
  },
  {
   "cell_type": "code",
   "execution_count": null,
   "id": "d10b48bc-d3f3-4630-82aa-24e70add17cb",
   "metadata": {},
   "outputs": [],
   "source": [
    "## EX 3 - Um estagiário está começando a trabalhar com Numpy. No meio dos tutoriais encontra menções a algo chamado máscara booleana.\n",
    "# O conceito não ficou muito claro para ele, e ele pede a sua ajuda para explicar o que é esse recurso no numpy.\n",
    "# Assinale a alternativa que explica o que é uma máscara booleana:\n",
    "\n",
    "#a) É uma maneira de indexar objetos no numpy, que funciona de maneira similar a um dicionário\n",
    "#b) É uma maneira de indexar objetos no numpy, que funciona de maneira similar a um filtro, que pode ser simples ou composto\n",
    "#c) É uma maneira de indexar objetos no numpy, que funciona de maneira similar a um filtro, a filtragem deve ser simples\n",
    "#d) É uma ferramenta do numpy para disfarçar variáveis False e fingir que são True, apenas por um periodo no código\n",
    "\n",
    "\n"
   ]
  },
  {
   "cell_type": "code",
   "execution_count": null,
   "id": "dd2c03cb-4d1f-420c-98b1-8eade43211b3",
   "metadata": {},
   "outputs": [],
   "source": [
    "## EX 4 - Em uma escola, a média para aprovação é 7. As notas dos alunos estão armazenadas em um array chamado 'notas'.\n",
    "#Escolha a expressão que pega 'notas' e salva em 'aprovados' um outro array booleano, com valor true apenas para as pessoas que passaram de ano:\n",
    "\n",
    "#a) aprovados = notas >= 7\n",
    "#b) aprovados = notas > 7\n",
    "#c) aprovados <- notas >= 7\n",
    "#d) aprovados = notas[notas >= 7]"
   ]
  }
 ],
 "metadata": {
  "kernelspec": {
   "display_name": "Python 3 (ipykernel)",
   "language": "python",
   "name": "python3"
  },
  "language_info": {
   "codemirror_mode": {
    "name": "ipython",
    "version": 3
   },
   "file_extension": ".py",
   "mimetype": "text/x-python",
   "name": "python",
   "nbconvert_exporter": "python",
   "pygments_lexer": "ipython3",
   "version": "3.11.2"
  }
 },
 "nbformat": 4,
 "nbformat_minor": 5
}
